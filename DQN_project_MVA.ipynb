{
 "cells": [
  {
   "cell_type": "markdown",
   "metadata": {},
   "source": [
    "**You may need to install [OpenCV](https://pypi.python.org/pypi/opencv-python) and [scikit-video](http://www.scikit-video.org/stable/).**"
   ]
  },
  {
   "cell_type": "code",
   "execution_count": 1,
   "metadata": {},
   "outputs": [
    {
     "name": "stderr",
     "output_type": "stream",
     "text": [
      "Using TensorFlow backend.\n"
     ]
    }
   ],
   "source": [
    "import keras\n",
    "import numpy as np\n",
    "import io\n",
    "import base64\n",
    "from IPython.display import HTML\n",
    "import skvideo\n",
    "skvideo.setFFmpegPath('C:\\\\Users\\\\Horace\\\\ffmpeg-20190221-a899b3b-win64-static\\\\bin')\n",
    "import skvideo.io\n",
    "import cv2\n",
    "import json\n",
    "\n",
    "from keras.models import Sequential,model_from_json\n",
    "from keras.layers.core import Dense, Flatten\n",
    "from keras.optimizers import sgd\n",
    "from keras.layers import Conv2D, MaxPooling2D, Activation, AveragePooling2D,Reshape,BatchNormalization"
   ]
  },
  {
   "cell_type": "markdown",
   "metadata": {},
   "source": [
    "# MiniProject on Deep Reinforcement Learning"
   ]
  },
  {
   "cell_type": "markdown",
   "metadata": {},
   "source": [
    "__Notations__: $E_p$ is the expectation under probability $p$. Please justify each of your answer and widely comment your code."
   ]
  },
  {
   "cell_type": "markdown",
   "metadata": {},
   "source": [
    "# Context"
   ]
  },
  {
   "cell_type": "markdown",
   "metadata": {},
   "source": [
    "In a reinforcement learning algorithm, we modelize each step $t$ as an action $a_t$ obtained from a state $s_t$, i.e. $\\{(a_{t},s_{t})_{t\\leq T}\\}$ having the Markov property. We consider a discount factor $\\gamma \\in [0,1]$ that ensures convergence. The goal is to find among all the policies $\\pi$, one that maximizes the expected reward:\n",
    "\n",
    "\\begin{equation*}\n",
    "R(\\pi)=\\sum_{t\\leq T}E_{p^{\\pi}}[\\gamma^t r(s_{t},a_{t})] \\> ,\n",
    "\\end{equation*}\n",
    "\n",
    "where: \n",
    "\\begin{equation*}p^{\\pi}(a_{0},a_{1},s_{1},...,a_{T},s_{T})=p(a_{0})\\prod_{t=1}^{T}\\pi(a_{t}|s_{t})p(s_{t+1}|s_{t},a_{t}) \\> .\n",
    "\\end{equation*}\n",
    "\n",
    "We note the $Q$-function:\n",
    "\n",
    "\\begin{equation*}Q^\\pi(s,a)=E_{p^{\\pi}}[\\sum_{t\\leq T}\\gamma^{t}r(s_{t},a_{t})|s_{0}=s,a_{0}=a] \\> .\n",
    "\\end{equation*}\n",
    "\n",
    "Thus, the optimal Q function is:\n",
    "\\begin{equation*}\n",
    "Q^*(s,a)=\\max_{\\pi}Q^\\pi(s,a) \\> .\n",
    "\\end{equation*}\n",
    "\n",
    "In this project, we will apply the deep reinforcement learning techniques to a simple game: an agent will have to learn from scratch a policy that will permit it maximizing a reward."
   ]
  },
  {
   "cell_type": "markdown",
   "metadata": {},
   "source": [
    "## The environment, the agent and the game"
   ]
  },
  {
   "cell_type": "markdown",
   "metadata": {},
   "source": [
    "### The environment"
   ]
  },
  {
   "cell_type": "markdown",
   "metadata": {},
   "source": [
    "```Environment``` is an abstract class that represents the states, rewards, and actions to obtain the new state."
   ]
  },
  {
   "cell_type": "code",
   "execution_count": 2,
   "metadata": {},
   "outputs": [],
   "source": [
    "class Environment(object):\n",
    "    def __init__(self):\n",
    "        pass\n",
    "\n",
    "    def act(self, act):\n",
    "        \"\"\"\n",
    "        One can act on the environment and obtain its reaction:\n",
    "        - the new state\n",
    "        - the reward of the new state\n",
    "        - should we continue the game?\n",
    "\n",
    "        :return: state, reward, game_over\n",
    "        \"\"\"\n",
    "        pass\n",
    "\n",
    "\n",
    "    def reset(self):\n",
    "        \"\"\"\n",
    "        Reinitialize the environment to a random state and returns\n",
    "        the original state\n",
    "\n",
    "        :return: state\n",
    "        \"\"\"\n",
    "        pass\n",
    "    \n",
    "    def draw(self):\n",
    "        \"\"\"\n",
    "        Visualize in the console or graphically the current state\n",
    "        \"\"\"\n",
    "        pass"
   ]
  },
  {
   "cell_type": "markdown",
   "metadata": {},
   "source": [
    "The method ```act``` allows to act on the environment at a given state $s_t$ (stored internally), via action $a_t$. The method will return the new state $s_{t+1}$, the reward $r(s_{t},a_{t})$ and determines if $t\\leq T$ (*game_over*).\n",
    "\n",
    "The method ```reset``` simply reinitializes the environment to a random state $s_0$.\n",
    "\n",
    "The method ```draw``` displays the current state $s_t$ (this is useful to check the behavior of the Agent).\n",
    "\n",
    "We modelize $s_t$ as a tensor, while $a_t$ is an integer."
   ]
  },
  {
   "cell_type": "markdown",
   "metadata": {},
   "source": [
    "### The Agent"
   ]
  },
  {
   "cell_type": "markdown",
   "metadata": {},
   "source": [
    "The goal of the ```Agent``` is to interact with the ```Environment``` by proposing actions $a_t$ obtained from a given state $s_t$ to attempt to maximize its __reward__ $r(s_t,a_t)$. We propose the following abstract class:"
   ]
  },
  {
   "cell_type": "code",
   "execution_count": 3,
   "metadata": {},
   "outputs": [],
   "source": [
    "class Agent(object):\n",
    "    def __init__(self, epsilon=0.1, n_action=4):\n",
    "        self.epsilon = epsilon\n",
    "        self.n_action = n_action\n",
    "    \n",
    "    def set_epsilon(self,e):\n",
    "        self.epsilon = e\n",
    "\n",
    "    def act(self,s,train=True):\n",
    "        \"\"\" This function should return the next action to do:\n",
    "        an integer between 0 and 4 (not included) with a random exploration of epsilon\"\"\"\n",
    "        if train:\n",
    "            if np.random.rand() <= self.epsilon:\n",
    "                a = np.random.randint(0, self.n_action, size=1)[0]\n",
    "            else:\n",
    "                a = self.learned_act(s)\n",
    "        else: # in some cases, this can improve the performance.. remove it if poor performances\n",
    "            a = self.learned_act(s)\n",
    "\n",
    "        return a\n",
    "\n",
    "    def learned_act(self,s):\n",
    "        \"\"\" Act via the policy of the agent, from a given state s\n",
    "        it proposes an action a\"\"\"\n",
    "        pass\n",
    "\n",
    "    def reinforce(self, s, n_s, a, r, game_over_):\n",
    "        \"\"\" This function is the core of the learning algorithm. \n",
    "        It takes as an input the current state s_, the next state n_s_\n",
    "        the action a_ used to move from s_ to n_s_ and the reward r_.\n",
    "        \n",
    "        Its goal is to learn a policy.\n",
    "        \"\"\"\n",
    "        pass\n",
    "\n",
    "    def save(self):\n",
    "        \"\"\" This function returns basic stats if applicable: the\n",
    "        loss and/or the model\"\"\"\n",
    "        pass\n",
    "\n",
    "    def load(self):\n",
    "        \"\"\" This function allows to restore a model\"\"\"\n",
    "        pass"
   ]
  },
  {
   "cell_type": "markdown",
   "metadata": {},
   "source": [
    "***\n",
    "__Question 1__:\n",
    "Explain the function act. Why is ```epsilon``` essential?"
   ]
  },
  {
   "cell_type": "markdown",
   "metadata": {},
   "source": [
    "> The function `act` either chooses an action at random, with probability `epsilon`, or performs a learned action. It is the exploration / exploitation mechanism at work. `epsilon` allows the agent to explore new parts of the space, enabling it to learn new actions."
   ]
  },
  {
   "cell_type": "markdown",
   "metadata": {},
   "source": [
    "***\n",
    "### The Game"
   ]
  },
  {
   "cell_type": "markdown",
   "metadata": {},
   "source": [
    "The ```Agent``` and the ```Environment``` work in an interlaced way as in the following (take some time to understand this code as it is the core of the project)\n",
    "\n",
    "```python\n",
    "\n",
    "epoch = 300\n",
    "env = Environment()\n",
    "agent = Agent()\n",
    "\n",
    "\n",
    "# Number of won games\n",
    "score = 0\n",
    "loss = 0\n",
    "\n",
    "\n",
    "for e in range(epoch):\n",
    "    # At each epoch, we restart to a fresh game and get the initial state\n",
    "    state = env.reset()\n",
    "    # This assumes that the games will end\n",
    "    game_over = False\n",
    "\n",
    "    win = 0\n",
    "    lose = 0\n",
    "    \n",
    "    while not game_over:\n",
    "        # The agent performs an action\n",
    "        action = agent.act(state)\n",
    "\n",
    "        # Apply an action to the environment, get the next state, the reward\n",
    "        # and if the games end\n",
    "        prev_state = state\n",
    "        state, reward, game_over = env.act(action)\n",
    "\n",
    "        # Update the counters\n",
    "        if reward > 0:\n",
    "            win = win + reward\n",
    "        if reward < 0:\n",
    "            lose = lose -reward\n",
    "\n",
    "        # Apply the reinforcement strategy\n",
    "        loss = agent.reinforce(prev_state, state,  action, reward, game_over)\n",
    "\n",
    "    # Save as a mp4\n",
    "    if e % 10 == 0:\n",
    "        env.draw(e)\n",
    "\n",
    "    # Update stats\n",
    "    score += win-lose\n",
    "\n",
    "    print(\"Epoch {:03d}/{:03d} | Loss {:.4f} | Win/lose count {}/{} ({})\"\n",
    "          .format(e, epoch, loss, win, lose, win-lose))\n",
    "    agent.save()\n",
    "```"
   ]
  },
  {
   "cell_type": "markdown",
   "metadata": {},
   "source": [
    "# The game, *eat cheese*"
   ]
  },
  {
   "cell_type": "markdown",
   "metadata": {},
   "source": [
    "A rat runs on an island and tries to eat as much as possible. The island is subdivided into $N\\times N$ cells, in which there are cheese (+0.5) and poisonous cells (-1). The rat has a visibility of 2 cells (thus it can see $5^2$ cells). The rat is given a time $T$ to accumulate as much food as possible. It can perform 4 actions: going up, down, left, right. \n",
    "\n",
    "The goal is to code an agent to solve this task that will learn by trial and error. We propose the following environment:"
   ]
  },
  {
   "cell_type": "code",
   "execution_count": 4,
   "metadata": {},
   "outputs": [],
   "source": [
    "class Environment(object):\n",
    "    def __init__(self, grid_size=10, max_time=500, temperature=0.1):\n",
    "        grid_size = grid_size+4\n",
    "        self.grid_size = grid_size\n",
    "        self.max_time = max_time\n",
    "        self.temperature = temperature\n",
    "\n",
    "        #board on which one plays\n",
    "        self.board = np.zeros((grid_size,grid_size))\n",
    "        self.position = np.zeros((grid_size,grid_size))\n",
    "\n",
    "        # coordinate of the cat\n",
    "        self.x = 0\n",
    "        self.y = 1\n",
    "\n",
    "        # self time\n",
    "        self.t = 0\n",
    "\n",
    "        self.scale=16\n",
    "\n",
    "        self.to_draw = np.zeros((max_time+2, grid_size*self.scale, grid_size*self.scale, 3))\n",
    "\n",
    "\n",
    "    def draw(self,e):\n",
    "        skvideo.io.vwrite(str(e) + '.mp4', self.to_draw)\n",
    "\n",
    "    def get_frame(self,t):\n",
    "        b = np.zeros((self.grid_size,self.grid_size,3))+128\n",
    "        b[self.board>0,0] = 256\n",
    "        b[self.board < 0, 2] = 256\n",
    "        b[self.x,self.y,:]=256\n",
    "        b[-2:,:,:]=0\n",
    "        b[:,-2:,:]=0\n",
    "        b[:2,:,:]=0\n",
    "        b[:,:2,:]=0\n",
    "        \n",
    "        b =  cv2.resize(b, None, fx=self.scale, fy=self.scale, interpolation=cv2.INTER_NEAREST)\n",
    "\n",
    "        self.to_draw[t,:,:,:]=b\n",
    "\n",
    "\n",
    "    def act(self, action):\n",
    "        \"\"\"This function returns the new state, reward and decides if the\n",
    "        game ends.\"\"\"\n",
    "\n",
    "        self.get_frame(int(self.t))\n",
    "\n",
    "        self.position = np.zeros((self.grid_size, self.grid_size))\n",
    "\n",
    "        self.position[0:2,:]= -1\n",
    "        self.position[:,0:2] = -1\n",
    "        self.position[-2:, :] = -1\n",
    "        self.position[-2:, :] = -1\n",
    "\n",
    "        self.position[self.x, self.y] = 1\n",
    "        if action == 0:\n",
    "            if self.x == self.grid_size-3:\n",
    "                self.x = self.x-1\n",
    "            else:\n",
    "                self.x = self.x + 1\n",
    "        elif action == 1:\n",
    "            if self.x == 2:\n",
    "                self.x = self.x+1\n",
    "            else:\n",
    "                self.x = self.x-1\n",
    "        elif action == 2:\n",
    "            if self.y == self.grid_size - 3:\n",
    "                self.y = self.y - 1\n",
    "            else:\n",
    "                self.y = self.y + 1\n",
    "        elif action == 3:\n",
    "            if self.y == 2:\n",
    "                self.y = self.y + 1\n",
    "            else:\n",
    "                self.y = self.y - 1\n",
    "        else:\n",
    "            RuntimeError('Error: action not recognized')\n",
    "\n",
    "        self.t = self.t + 1\n",
    "        reward = self.board[self.x, self.y]\n",
    "        self.board[self.x, self.y] = 0\n",
    "        game_over = self.t > self.max_time\n",
    "        state = np.concatenate((self.board.reshape(self.grid_size, self.grid_size,1),\n",
    "                        self.position.reshape(self.grid_size, self.grid_size,1)),axis=2)\n",
    "        state = state[self.x-2:self.x+3,self.y-2:self.y+3,:]\n",
    "\n",
    "        return state, reward, game_over\n",
    "\n",
    "    def reset(self):\n",
    "        \"\"\"This function resets the game and returns the initial state\"\"\"\n",
    "\n",
    "        self.x = np.random.randint(3, self.grid_size-3, size=1)[0]\n",
    "        self.y = np.random.randint(3, self.grid_size-3, size=1)[0]\n",
    "\n",
    "\n",
    "        bonus = 0.5*np.random.binomial(1,self.temperature,size=self.grid_size**2)\n",
    "        bonus = bonus.reshape(self.grid_size,self.grid_size)\n",
    "\n",
    "        malus = -1.0*np.random.binomial(1,self.temperature,size=self.grid_size**2)\n",
    "        malus = malus.reshape(self.grid_size, self.grid_size)\n",
    "\n",
    "        self.to_draw = np.zeros((self.max_time+2, self.grid_size*self.scale, self.grid_size*self.scale, 3))\n",
    "\n",
    "\n",
    "        malus[bonus>0]=0\n",
    "\n",
    "        self.board = bonus + malus\n",
    "\n",
    "        self.position = np.zeros((self.grid_size, self.grid_size))\n",
    "        self.position[0:2,:]= -1\n",
    "        self.position[:,0:2] = -1\n",
    "        self.position[-2:, :] = -1\n",
    "        self.position[-2:, :] = -1\n",
    "        self.board[self.x,self.y] = 0\n",
    "        self.t = 0\n",
    "\n",
    "        state = np.concatenate((\n",
    "                               self.board.reshape(self.grid_size, self.grid_size,1),\n",
    "                        self.position.reshape(self.grid_size, self.grid_size,1)),axis=2)\n",
    "\n",
    "        state = state[self.x - 2:self.x + 3, self.y - 2:self.y + 3, :]\n",
    "        return state"
   ]
  },
  {
   "cell_type": "code",
   "execution_count": 5,
   "metadata": {},
   "outputs": [
    {
     "data": {
      "text/plain": [
       "array([[[1., 2.],\n",
       "        [1., 2.],\n",
       "        [1., 2.]],\n",
       "\n",
       "       [[1., 2.],\n",
       "        [1., 2.],\n",
       "        [1., 2.]],\n",
       "\n",
       "       [[1., 2.],\n",
       "        [1., 2.],\n",
       "        [1., 2.]]])"
      ]
     },
     "execution_count": 5,
     "metadata": {},
     "output_type": "execute_result"
    }
   ],
   "source": [
    "board = np.ones(9)\n",
    "position = np.ones(9)*2\n",
    "grid_size = 3\n",
    "state = np.concatenate((board.reshape(grid_size, grid_size,1),\n",
    "                        position.reshape(grid_size, grid_size,1)),axis=2)\n",
    "state"
   ]
  },
  {
   "cell_type": "markdown",
   "metadata": {},
   "source": [
    "The following elements are important because they correspond to the hyper parameters for this project:"
   ]
  },
  {
   "cell_type": "code",
   "execution_count": 6,
   "metadata": {},
   "outputs": [],
   "source": [
    "# parameters\n",
    "size = 13\n",
    "T=200\n",
    "temperature=0.3\n",
    "epochs_train=50 # set small when debugging\n",
    "epochs_test=11 # set small when debugging\n",
    "\n",
    "# display videos\n",
    "def display_videos(name):\n",
    "    video = io.open(name, 'r+b').read()\n",
    "    encoded = base64.b64encode(video)\n",
    "    return '''<video alt=\"test\" controls>\n",
    "                <source src=\"data:video/mp4;base64,{0}\" type=\"video/mp4\" />\n",
    "             </video>'''.format(encoded.decode('ascii'))"
   ]
  },
  {
   "cell_type": "markdown",
   "metadata": {},
   "source": [
    "__Question 2__ Explain the use of the arrays ```position``` and ```board```."
   ]
  },
  {
   "cell_type": "markdown",
   "metadata": {},
   "source": []
  },
  {
   "cell_type": "markdown",
   "metadata": {},
   "source": [
    "## Random Agent"
   ]
  },
  {
   "cell_type": "markdown",
   "metadata": {},
   "source": [
    "***\n",
    "__Question 3__ Implement a random Agent (only ```learned_act``` needs to be implemented):"
   ]
  },
  {
   "cell_type": "code",
   "execution_count": 7,
   "metadata": {},
   "outputs": [],
   "source": [
    "class RandomAgent(Agent):\n",
    "    def __init__(self):\n",
    "        super(RandomAgent, self).__init__()\n",
    "        pass\n",
    "\n",
    "    def learned_act(self, s):\n",
    "        return np.random.randint(0, 4)"
   ]
  },
  {
   "cell_type": "markdown",
   "metadata": {},
   "source": [
    "***\n",
    "***\n",
    "__Question 4__ Visualize the game moves. You need to fill in the following function for the evaluation:"
   ]
  },
  {
   "cell_type": "code",
   "execution_count": 8,
   "metadata": {},
   "outputs": [],
   "source": [
    "# parameters\n",
    "size = 13\n",
    "T=200\n",
    "temperature=0.3\n",
    "epochs_train=2 # set small when debugging\n",
    "epochs_test=1 # set small when debugging\n",
    "\n",
    "def test(agent,env,epochs,prefix=''):\n",
    "    # Number of won games\n",
    "    score = 0\n",
    "    win = 0\n",
    "    lose = 0        \n",
    "    for e in range(epochs):\n",
    "        state = env.reset()\n",
    "        game_over = False\n",
    "        while not game_over:\n",
    "            action = agent.act(state)\n",
    "            state, reward, game_over = env.act(action)\n",
    "\n",
    "            # Update the counters\n",
    "            if reward > 0:\n",
    "                win = win + reward\n",
    "            if reward < 0:\n",
    "                lose = lose -reward\n",
    "\n",
    "        # Save as a mp4\n",
    "        env.draw(prefix+str(e))\n",
    "\n",
    "        # Update stats\n",
    "        score = score + win-lose\n",
    "\n",
    "        print(\"Win/lose count {}/{}. Average score ({})\"\n",
    "              .format(win, lose, score/(1+e)))\n",
    "    print('Final score: '+str(score/epochs))"
   ]
  },
  {
   "cell_type": "code",
   "execution_count": 9,
   "metadata": {},
   "outputs": [
    {
     "name": "stdout",
     "output_type": "stream",
     "text": [
      "Win/lose count 14.0/12.0. Average score (2.0)\n",
      "Final score: 2.0\n"
     ]
    },
    {
     "data": {
      "text/html": [
       "<video alt=\"test\" controls>\n",
       "                <source src=\"data:video/mp4;base64,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\" type=\"video/mp4\" />\n",
       "             </video>"
      ],
      "text/plain": [
       "<IPython.core.display.HTML object>"
      ]
     },
     "execution_count": 9,
     "metadata": {},
     "output_type": "execute_result"
    }
   ],
   "source": [
    "# Initialize the game\n",
    "env = Environment(grid_size=size, max_time=T,temperature=temperature)\n",
    "\n",
    "# Initialize the agent!\n",
    "agent = RandomAgent()\n",
    "\n",
    "test(agent,env,epochs_test,prefix='random')\n",
    "HTML(display_videos('random0.mp4'))"
   ]
  },
  {
   "cell_type": "markdown",
   "metadata": {},
   "source": [
    "***\n",
    "## DQN"
   ]
  },
  {
   "cell_type": "markdown",
   "metadata": {},
   "source": [
    "Let us assume here that $T=\\infty$.\n",
    "\n",
    "***\n",
    "__Question 5__ Let $\\pi$ be a policy, show that:\n",
    "\n",
    "\\begin{equation*}\n",
    "Q^{\\pi}(s,a)=E_{(s',a')\\sim p(.|s,a)}[r(s,a)+\\gamma Q^{\\pi}(s',a')]\n",
    "\\end{equation*}\n",
    "\n",
    "Then, show that for the optimal policy $\\pi^*$ (we assume its existence), the following holds: \n",
    "\n",
    "\\begin{equation*}\n",
    "Q^{*}(s,a)=E_{s'\\sim \\pi^*(.|s,a)}[r(s,a)+\\gamma\\max_{a'}Q^{*}(s',a')].\n",
    "\\end{equation*}\n",
    "Finally, deduce that a plausible objective is:\n",
    "\n",
    "\\begin{equation*}\n",
    "\\mathcal{L}(\\theta)=E_{s' \\sim \\pi^*(.|s,a)}\\Vert r+\\gamma\\max\\max_{a'}Q(s',a',\\theta)-Q(s,a,\\theta)\\Vert^{2}.\n",
    "\\end{equation*}\n",
    "\n",
    "\n"
   ]
  },
  {
   "cell_type": "markdown",
   "metadata": {},
   "source": [
    "**Answer**  \n",
    "1) By definition, we have:  \n",
    "\n",
    "$Q^{\\pi}(s, a) = E_{\\pi}[\\sum_{k=0}^{\\infty} \\gamma^k r_{t+k} | s_t=s, a_t=a]$  \n",
    "\n",
    "$ = r(s, a) + \\gamma E_{\\pi}[\\sum_{k=0}^{\\infty}\\gamma^k r_{t+1+k} | s_t=s, a_t=a]$\n",
    "\n",
    "$ = r(s, a) + \\gamma \\sum_{(s', a')} p(s_{t+1}=s', a_{t+1} = a' | s_t = s, a_t=a) E_{\\pi}[\\sum_{k=0}^{\\infty} \\gamma ^k r_{t+1+k} | s_{t+1} = s', a_{t+1}=a']$\n",
    "\n",
    "$= E_{(s',a')\\sim p(.|s,a)}[r(s,a)+\\gamma Q^{\\pi}(s',a')]$\n",
    "\n",
    "***\n",
    "2) We need to show that:\n",
    "\n",
    "$$E_{(s',a')\\sim p(.|s,a)}[Q^{\\pi^*}(s',a')] = E_{s'\\sim \\pi^*(.|s,a)}[\\max_{a'} Q^{\\pi^*}(s',a')]$$\n"
   ]
  },
  {
   "cell_type": "markdown",
   "metadata": {},
   "source": [
    "***\n",
    "The DQN-learning algorithm relies on these derivations to train the parameters $\\theta$ of a Deep Neural Network:\n",
    "\n",
    "1. At the state $s_t$, select the action $a_t$ with best reward using $Q_t$ and store the results;\n",
    "\n",
    "2. Obtain the new state $s_{t+1}$ from the environment $p$;\n",
    "\n",
    "3. Store $(s_t,a_t,s_{t+1})$;\n",
    "\n",
    "4. Obtain $Q_{t+1}$ by minimizing  $\\mathcal{L}$ from a recovered batch from the previously stored results.\n",
    "\n",
    "***\n",
    "__Question 6__ Implement the class ```Memory``` that stores moves (in a replay buffer) via ```remember``` and provides a ```random_access``` to these. Specify a maximum memory size to avoid side effects. You can for example use a ```list()``` and set by default ```max_memory=100```."
   ]
  },
  {
   "cell_type": "code",
   "execution_count": 11,
   "metadata": {},
   "outputs": [],
   "source": [
    "class Memory(object):\n",
    "    def __init__(self, max_memory=100):\n",
    "        self.max_memory = max_memory\n",
    "        self.memory = list()\n",
    "\n",
    "    def remember(self, m):\n",
    "        self.memory.append(m)\n",
    "\n",
    "    def random_access(self):\n",
    "        return self.memory[np.random.randint(0, len(self.memory))]"
   ]
  },
  {
   "cell_type": "markdown",
   "metadata": {},
   "source": [
    "***\n",
    "The pipeline we will use for training is given below:"
   ]
  },
  {
   "cell_type": "code",
   "execution_count": 12,
   "metadata": {},
   "outputs": [],
   "source": [
    "def train(agent,env,epoch,prefix=''):\n",
    "    # Number of won games\n",
    "    score = 0\n",
    "    loss = 0\n",
    "\n",
    "    for e in range(epoch):\n",
    "        # At each epoch, we restart to a fresh game and get the initial state\n",
    "        state = env.reset()\n",
    "        # This assumes that the games will terminate\n",
    "        game_over = False\n",
    "\n",
    "        win = 0\n",
    "        lose = 0\n",
    "\n",
    "        while not game_over:\n",
    "            # The agent performs an action\n",
    "            action = agent.act(state)\n",
    "\n",
    "            # Apply an action to the environment, get the next state, the reward\n",
    "            # and if the games end\n",
    "            prev_state = state\n",
    "            state, reward, game_over = env.act(action)\n",
    "\n",
    "            # Update the counters\n",
    "            if reward > 0:\n",
    "                win = win + reward\n",
    "            if reward < 0:\n",
    "                lose = lose -reward\n",
    "\n",
    "            # Apply the reinforcement strategy\n",
    "            loss = agent.reinforce(prev_state, state,  action, reward, game_over)\n",
    "\n",
    "        # Save as a mp4\n",
    "        if e % 10 == 0:\n",
    "            env.draw(prefix+str(e))\n",
    "\n",
    "        # Update stats\n",
    "        score += win-lose\n",
    "\n",
    "        print(\"Epoch {:03d}/{:03d} | Loss {:.4f} | Win/lose count {}/{} ({})\"\n",
    "              .format(e, epoch, loss, win, lose, win-lose))\n",
    "        agent.save(name_weights=prefix+'model.h5',name_model=prefix+'model.json')"
   ]
  },
  {
   "cell_type": "markdown",
   "metadata": {},
   "source": [
    "***\n",
    "__Question 7__ Implement the DQN training algorithm using a cascade of fully connected layers. You can use different learning rate, batch size or memory size parameters. In particular, the loss might oscillate while the player will start to win the games. You have to find a good criterium."
   ]
  },
  {
   "cell_type": "code",
   "execution_count": 13,
   "metadata": {},
   "outputs": [],
   "source": [
    "class DQN(Agent):\n",
    "    def __init__(self, grid_size,  epsilon = 0.1, memory_size=100, batch_size = 16,n_state=2):\n",
    "        super(DQN, self).__init__(epsilon = epsilon)\n",
    "\n",
    "        # Discount for Q learning\n",
    "        self.discount = 0.99\n",
    "        \n",
    "        self.grid_size = grid_size\n",
    "        \n",
    "        # number of state\n",
    "        self.n_state = n_state\n",
    "\n",
    "        # Memory\n",
    "        self.memory = Memory(memory_size)\n",
    "        \n",
    "        # Batch size when learning\n",
    "        self.batch_size = batch_size\n",
    "\n",
    "    def learned_act(self, s):\n",
    "        probas = self.model.predict(np.expand_dims(s, 0))[0]\n",
    "        return np.argmax(probas)\n",
    "\n",
    "    def reinforce(self, s_, n_s_, a_, r_, game_over_):\n",
    "        # Two steps: first memorize the states, second learn from the pool\n",
    "\n",
    "        self.memory.remember([s_, n_s_, a_, r_, game_over_])\n",
    "        \n",
    "        input_states = np.zeros((self.batch_size, 5,5,self.n_state))\n",
    "        target_q = np.zeros((self.batch_size, 4))\n",
    "        \n",
    "        for i in range(self.batch_size):\n",
    "            state, next_state, action, reward, game_over = self.memory.random_access()\n",
    "            predicted_rewards = self.model.predict(np.expand_dims(next_state, 0))[0]\n",
    "            input_states[i] = state\n",
    "            \n",
    "            if game_over:\n",
    "                predicted_rewards[action] = reward\n",
    "            else:\n",
    "                predicted_rewards[action] = reward + self.discount * np.max(predicted_rewards)\n",
    "            target_q[i] = predicted_rewards\n",
    "        \n",
    "        target_q = np.clip(target_q, -3, 3)\n",
    "\n",
    "        l = self.model.train_on_batch(input_states[:], target_q)\n",
    "\n",
    "        return l\n",
    "\n",
    "    def save(self,name_weights='model.h5',name_model='model.json'):\n",
    "        self.model.save_weights(name_weights, overwrite=True)\n",
    "        with open(name_model, \"w\") as outfile:\n",
    "            json.dump(self.model.to_json(), outfile)\n",
    "            \n",
    "    def load(self,name_weights='model.h5',name_model='model.json'):\n",
    "        with open(name_model, \"r\") as jfile:\n",
    "            model = model_from_json(json.load(jfile))\n",
    "        model.load_weights(name_weights)\n",
    "        model.compile(\"sgd\", \"mse\")\n",
    "        self.model = model\n",
    "\n",
    "            \n",
    "class DQN_FC(DQN):\n",
    "    def __init__(self, *args, lr=0.1,**kwargs):\n",
    "        super(DQN_FC, self).__init__( *args,**kwargs)\n",
    "        \n",
    "        model = Sequential()\n",
    "        model.add(Dense(50, input_shape=(5, 5, self.n_state), activation='relu'))\n",
    "        model.add(Flatten())\n",
    "        model.add(Dense(4))\n",
    "        \n",
    "        model.compile(sgd(lr=lr, decay=1e-4, momentum=0.0), \"mse\")\n",
    "        self.model = model\n",
    "        "
   ]
  },
  {
   "cell_type": "code",
   "execution_count": 14,
   "metadata": {},
   "outputs": [
    {
     "name": "stdout",
     "output_type": "stream",
     "text": [
      "WARNING:tensorflow:From C:\\Users\\Horace\\Miniconda3\\lib\\site-packages\\tensorflow\\python\\framework\\op_def_library.py:263: colocate_with (from tensorflow.python.framework.ops) is deprecated and will be removed in a future version.\n",
      "Instructions for updating:\n",
      "Colocations handled automatically by placer.\n",
      "WARNING:tensorflow:From C:\\Users\\Horace\\Miniconda3\\lib\\site-packages\\tensorflow\\python\\ops\\math_ops.py:3066: to_int32 (from tensorflow.python.ops.math_ops) is deprecated and will be removed in a future version.\n",
      "Instructions for updating:\n",
      "Use tf.cast instead.\n",
      "Epoch 000/002 | Loss 0.0033 | Win/lose count 3.5/6.0 (-2.5)\n",
      "Epoch 001/002 | Loss 0.0230 | Win/lose count 6.0/5.0 (1.0)\n"
     ]
    },
    {
     "data": {
      "text/html": [
       "<video alt=\"test\" controls>\n",
       "                <source src=\"data:video/mp4;base64,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\" type=\"video/mp4\" />\n",
       "             </video>"
      ],
      "text/plain": [
       "<IPython.core.display.HTML object>"
      ]
     },
     "execution_count": 14,
     "metadata": {},
     "output_type": "execute_result"
    }
   ],
   "source": [
    "env = Environment(grid_size=size, max_time=T, temperature=0.3)\n",
    "agent = DQN_FC(size, lr=.1, epsilon = 0.1, memory_size=2000, batch_size = 32)\n",
    "train(agent, env, epochs_train, prefix='fc_train')\n",
    "HTML(display_videos('fc_train10.mp4'))"
   ]
  },
  {
   "cell_type": "markdown",
   "metadata": {},
   "source": [
    "***\n",
    "***\n",
    "__Question 8__ Implement the DQN training algorithm using a CNN (for example, 2 convolutional layers and one final fully connected layer)."
   ]
  },
  {
   "cell_type": "code",
   "execution_count": 15,
   "metadata": {},
   "outputs": [],
   "source": [
    "class DQN_CNN(DQN):\n",
    "    def __init__(self, *args,lr=0.1,**kwargs):\n",
    "        super(DQN_CNN, self).__init__(*args,**kwargs)\n",
    "        \n",
    "        model = Sequential()\n",
    "        model.add(Conv2D(10, 2, input_shape=(5, 5, self.n_state), activation='relu'))\n",
    "        model.add(Conv2D(20, 2, activation='relu'))\n",
    "        model.add(Flatten())\n",
    "        model.add(Dense(4))\n",
    "        \n",
    "        model.compile(sgd(lr=lr, decay=1e-4, momentum=0.0), \"mse\")\n",
    "        self.model = model"
   ]
  },
  {
   "cell_type": "code",
   "execution_count": 16,
   "metadata": {},
   "outputs": [
    {
     "name": "stdout",
     "output_type": "stream",
     "text": [
      "Epoch 000/002 | Loss 0.0054 | Win/lose count 2.5/2.0 (0.5)\n",
      "Epoch 001/002 | Loss 0.0065 | Win/lose count 1.0/1.0 (0.0)\n"
     ]
    },
    {
     "data": {
      "text/html": [
       "<video alt=\"test\" controls>\n",
       "                <source src=\"data:video/mp4;base64,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\" type=\"video/mp4\" />\n",
       "             </video>"
      ],
      "text/plain": [
       "<IPython.core.display.HTML object>"
      ]
     },
     "execution_count": 16,
     "metadata": {},
     "output_type": "execute_result"
    }
   ],
   "source": [
    "env = Environment(grid_size=size, max_time=T, temperature=0.3)\n",
    "agent = DQN_CNN(size, lr=.1, epsilon = 0.1, memory_size=2000, batch_size = 32)\n",
    "train(agent,env,epochs_train,prefix='cnn_train')\n",
    "HTML(display_videos('cnn_train10.mp4'))"
   ]
  },
  {
   "cell_type": "markdown",
   "metadata": {},
   "source": [
    "***\n",
    "***\n",
    "__Question 9__ Test both algorithms and compare their performances. Which issue(s) do you observe? Observe also different behaviors by changing the temperature."
   ]
  },
  {
   "cell_type": "code",
   "execution_count": 17,
   "metadata": {},
   "outputs": [
    {
     "name": "stdout",
     "output_type": "stream",
     "text": [
      "Test of the CNN\n",
      "Win/lose count 3.5/1.0. Average score (2.5)\n",
      "Final score: 2.5\n",
      "Test of the FC\n",
      "Win/lose count 5.5/12.0. Average score (-6.5)\n",
      "Final score: -6.5\n"
     ]
    }
   ],
   "source": [
    "env = Environment(grid_size=size, max_time=T,temperature=0.3)\n",
    "agent_cnn = DQN_CNN(size, lr=.1, epsilon = 0.1, memory_size=2000, batch_size = 32)\n",
    "agent_cnn.load(name_weights='cnn_trainmodel.h5',name_model='cnn_trainmodel.json')\n",
    "\n",
    "agent_fc = DQN_FC(size, lr=.1, epsilon = 0.1, memory_size=2000, batch_size = 32)\n",
    "agent_cnn.load(name_weights='fc_trainmodel.h5',name_model='fc_trainmodel.json')\n",
    "print('Test of the CNN')\n",
    "test(agent_cnn,env,epochs_test,prefix='cnn_test')\n",
    "print('Test of the FC')\n",
    "test(agent_fc,env,epochs_test,prefix='fc_test')"
   ]
  },
  {
   "cell_type": "code",
   "execution_count": 18,
   "metadata": {},
   "outputs": [
    {
     "data": {
      "text/html": [
       "<video alt=\"test\" controls>\n",
       "                <source src=\"data:video/mp4;base64,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\" type=\"video/mp4\" />\n",
       "             </video>"
      ],
      "text/plain": [
       "<IPython.core.display.HTML object>"
      ]
     },
     "execution_count": 18,
     "metadata": {},
     "output_type": "execute_result"
    }
   ],
   "source": [
    "HTML(display_videos('cnn_test10.mp4'))"
   ]
  },
  {
   "cell_type": "code",
   "execution_count": 19,
   "metadata": {},
   "outputs": [
    {
     "data": {
      "text/html": [
       "<video alt=\"test\" controls>\n",
       "                <source src=\"data:video/mp4;base64,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\" type=\"video/mp4\" />\n",
       "             </video>"
      ],
      "text/plain": [
       "<IPython.core.display.HTML object>"
      ]
     },
     "execution_count": 19,
     "metadata": {},
     "output_type": "execute_result"
    }
   ],
   "source": [
    "HTML(display_videos('fc_test10.mp4'))"
   ]
  },
  {
   "cell_type": "markdown",
   "metadata": {},
   "source": []
  },
  {
   "cell_type": "markdown",
   "metadata": {},
   "source": [
    "***\n",
    "\n",
    "The algorithm tends to not explore the map which can be an issue. We propose two ideas in order to encourage exploration:\n",
    "1. Incorporating a decreasing $\\epsilon$-greedy exploration. You can use the method ```set_epsilon```\n",
    "2. Append via the environment a new state that describes if a cell has been visited or not\n",
    "\n",
    "***\n",
    "__Question 10__ Design a new ```train_explore``` function and environment class ```EnvironmentExploring``` to tackle the issue of exploration.\n",
    "\n"
   ]
  },
  {
   "cell_type": "code",
   "execution_count": 20,
   "metadata": {},
   "outputs": [],
   "source": [
    "def train_explore(agent,env,epoch,prefix=''):\n",
    "    score = 0\n",
    "    loss = 0\n",
    "    \n",
    "    for e in range(epoch):\n",
    "        state = env.reset()\n",
    "        game_over = False\n",
    "        \n",
    "        win = 0\n",
    "        lose = 0\n",
    "        \n",
    "        while not game_over:\n",
    "            action = agent.act(state)\n",
    "            prev_state = state\n",
    "            state, reward, game_over = env.act(action)\n",
    "            \n",
    "            if reward > 0:\n",
    "                win += reward\n",
    "            else:\n",
    "                lose -= reward\n",
    "            \n",
    "            loss = agent.reinforce(prev_state, state, action, reward, game_over)\n",
    "        \n",
    "        if e % 10 == 0:\n",
    "            env.draw(prefix+str(e))\n",
    "            \n",
    "            score += win - lose\n",
    "            \n",
    "            print(\"Epoch {:03d}/{:03d} | Loss {:.4f} | Win/Lose count {}/{} ({})\"\n",
    "                  \"\".format(e, epoch, loss, win, lose, win-lose))\n",
    "            agent.save(name_weights=prefix+'model.h5', name_model=prefix+'model.json')\n",
    "            agent.set_epsilon(agent.epsilon * 0.9)\n",
    "            \n",
    "\n",
    "class EnvironmentExploring(Environment):\n",
    "    def __init__(self, grid_size=10, max_time=500, temperature=0.1):\n",
    "        super().__init__(grid_size, max_time, temperature)\n",
    "        self.malus_position = np.zeros((self.grid_size, self.grid_size))\n",
    "    \n",
    "    def act(self, action):\n",
    "        state, reward, game_over = super().act(action)\n",
    "        if reward == 0:\n",
    "            reward -= self.malus_position[self.x, self.y]\n",
    "            self.malus_position[self.x, self.y] = 0.2\n",
    "        return np.concatenate(self.create_state(state), axis=2), reward, game_over\n",
    "    \n",
    "    def reset(self):\n",
    "        self.malus_position = np.zeros((self.grid_size, self.grid_size))\n",
    "        state = super().reset()\n",
    "        return np.concatenate(self.create_state(state), axis=2)\n",
    "    \n",
    "    def create_state(self, super_state):\n",
    "        super_state = np.dsplit(super_state, 2)\n",
    "        a = self.malus_position.reshape(self.grid_size, self.grid_size, 1)\n",
    "        super_state.append(a[self.x-2:self.x+3, self.y-2:self.y+3])\n",
    "        return super_state"
   ]
  },
  {
   "cell_type": "markdown",
   "metadata": {},
   "source": [
    "**Use those samples of code**:\n",
    "\n",
    "- In train explore:\n",
    "```python\n",
    "state, reward, game_over = env.act(action, train=True)\n",
    "```\n",
    "\n",
    "- In Environment exploring:\n",
    "\n",
    "You will have to change n_state to 3 because you will use one more layer!\n",
    "```python\n",
    "reward = 0\n",
    "if train:\n",
    "    reward = -self.malus_position[self.x, self.y]\n",
    "self.malus_position[self.x, self.y] = 0.1\n",
    "\n",
    "reward = reward + self.board[self.x, self.y]\n",
    "```\n",
    "\n",
    "3 \"feature\" states instead of 2\n",
    "```python\n",
    "state = np.concatenate((self.malus_position.reshape(self.grid_size, self.grid_size,1),\n",
    "                        self.board.reshape(self.grid_size, self.grid_size,1),\n",
    "                        self.position.reshape(self.grid_size, self.grid_size,1)),axis=2)\n",
    "```"
   ]
  },
  {
   "cell_type": "code",
   "execution_count": 21,
   "metadata": {},
   "outputs": [
    {
     "name": "stdout",
     "output_type": "stream",
     "text": [
      "Epoch 000/002 | Loss 0.0151 | Win/Lose count 3.5/41.200000000000045 (-37.700000000000045)\n"
     ]
    },
    {
     "data": {
      "text/html": [
       "<video alt=\"test\" controls>\n",
       "                <source src=\"data:video/mp4;base64,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\" type=\"video/mp4\" />\n",
       "             </video>"
      ],
      "text/plain": [
       "<IPython.core.display.HTML object>"
      ]
     },
     "execution_count": 21,
     "metadata": {},
     "output_type": "execute_result"
    }
   ],
   "source": [
    "# Training\n",
    "env = EnvironmentExploring(grid_size=size, max_time=T, temperature=0.3)\n",
    "agent = DQN_CNN(size, lr=.1, epsilon = 0.1, memory_size=2000, batch_size = 32,n_state=3)\n",
    "train_explore(agent, env, epochs_train, prefix='cnn_train_explore')\n",
    "HTML(display_videos('cnn_train_explore10.mp4'))"
   ]
  },
  {
   "cell_type": "code",
   "execution_count": 22,
   "metadata": {},
   "outputs": [
    {
     "name": "stdout",
     "output_type": "stream",
     "text": [
      "Win/lose count 4.0/36.199999999999974. Average score (-32.199999999999974)\n",
      "Final score: -32.199999999999974\n"
     ]
    },
    {
     "data": {
      "text/html": [
       "<video alt=\"test\" controls>\n",
       "                <source src=\"data:video/mp4;base64,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\" type=\"video/mp4\" />\n",
       "             </video>"
      ],
      "text/plain": [
       "<IPython.core.display.HTML object>"
      ]
     },
     "execution_count": 22,
     "metadata": {},
     "output_type": "execute_result"
    }
   ],
   "source": [
    "# Evaluation\n",
    "test(agent,env,epochs_test,prefix='cnn_test_explore')\n",
    "HTML(display_videos('cnn_test_explore10.mp4'))"
   ]
  },
  {
   "cell_type": "markdown",
   "metadata": {},
   "source": [
    "***\n",
    "***\n",
    "__BONUS question__ Use the expert DQN from the previous question to generate some winning games. Train a model that mimicks its behavior. Compare the performances."
   ]
  },
  {
   "cell_type": "markdown",
   "metadata": {},
   "source": []
  },
  {
   "cell_type": "markdown",
   "metadata": {},
   "source": [
    "***"
   ]
  }
 ],
 "metadata": {
  "kernelspec": {
   "display_name": "Python 3",
   "language": "python",
   "name": "python3"
  },
  "language_info": {
   "codemirror_mode": {
    "name": "ipython",
    "version": 3
   },
   "file_extension": ".py",
   "mimetype": "text/x-python",
   "name": "python",
   "nbconvert_exporter": "python",
   "pygments_lexer": "ipython3",
   "version": "3.7.0"
  }
 },
 "nbformat": 4,
 "nbformat_minor": 2
}
